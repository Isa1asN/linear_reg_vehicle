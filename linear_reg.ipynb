{
 "cells": [
  {
   "cell_type": "code",
   "execution_count": 1,
   "metadata": {},
   "outputs": [],
   "source": [
    "import numpy as np"
   ]
  },
  {
   "cell_type": "code",
   "execution_count": 7,
   "metadata": {},
   "outputs": [],
   "source": [
    "# data reader from csv file\n",
    "def load_data(path, dataType, skip_header):\n",
    "    data = np.genfromtxt(path, delimiter=',', skip_header=skip_header, dtype=dataType)\n",
    "    return data "
   ]
  },
  {
   "cell_type": "code",
   "execution_count": 40,
   "metadata": {},
   "outputs": [],
   "source": [
    "# the data columns of the data file \n",
    "dataType = [\n",
    "    ('name', 'U40'),\n",
    "    ('year', int),\n",
    "    ('selling_price', int),\n",
    "    ('km_driven', int),\n",
    "    ('fuel', 'U15'),\n",
    "    ('seller_type', 'U16'),\n",
    "    ('transmission', 'U15'),\n",
    "    ('owner', 'U20')\n",
    "]"
   ]
  },
  {
   "cell_type": "code",
   "execution_count": 41,
   "metadata": {},
   "outputs": [],
   "source": [
    "# load the data \n",
    "data = load_data('car_data.csv', dataType, True)"
   ]
  },
  {
   "cell_type": "code",
   "execution_count": 42,
   "metadata": {},
   "outputs": [
    {
     "name": "stdout",
     "output_type": "stream",
     "text": [
      "4340\n",
      "4340\n",
      "4340\n",
      "4340\n",
      "4340\n",
      "4340\n",
      "4340\n",
      "4340\n"
     ]
    }
   ],
   "source": [
    "print(len(data['name'])) #the name is not that valuable tho\n",
    "print(len(data['year']))\n",
    "print(len(data['selling_price']))\n",
    "print(len(data['km_driven']))\n",
    "print(len(data['fuel']))\n",
    "print(len(data['seller_type']))\n",
    "print(len(data['transmission']))\n",
    "print(len(data['owner']))\n"
   ]
  },
  {
   "cell_type": "code",
   "execution_count": 49,
   "metadata": {},
   "outputs": [],
   "source": [
    "# the categorical features should be encoded to make use of them\n",
    "seller_type_categories = [\"Individual\", \"Dealer\", \"Trustmark Dealer\"]\n",
    "fuel_categories = [\"Petrol\", \"Diesel\", \"CNG\", \"Electric\", \"LPG\"]\n",
    "transmission_categories = [\"Manual\", \"Automatic\"]\n",
    "owner_categories = [\"First Owner\", \"Second Owner\", \"Third Owner\", \"Fourth & Above Owner\"]"
   ]
  },
  {
   "cell_type": "code",
   "execution_count": 52,
   "metadata": {},
   "outputs": [],
   "source": [
    "# I used a integers to label the different categories\n",
    "seller_type_mapping = {\n",
    "    \"Individual\" : 1,\n",
    "    \"Dealer\" : 2,\n",
    "    \"Trustmark Dealer\" : 3\n",
    "}\n",
    "\n",
    "fuel_mapping = {\n",
    "    \"Petrol\" : 1,\n",
    "    \"Diesel\" : 2,\n",
    "    \"CNG\" : 3,  # CNG means Compressed Natural Gas\n",
    "    \"Electric\" : 4, \n",
    "    \"LPG\" : 5   # LPG means Liquefied Petroleum Gas\n",
    "}\n",
    "transmission_mapping = {\n",
    "    \"Manual\" : 1,\n",
    "    \"Automatic\" : 2\n",
    "}\n",
    "owner_mapping = {\n",
    "    \"First Owner\" : 1,\n",
    "    \"Second Owner\" : 2,\n",
    "    \"Third Owner\" : 3,\n",
    "    \"Fourth & Above Owner\" : 4,\n",
    "    \"Test Drive Car\" : 5\n",
    "}"
   ]
  },
  {
   "cell_type": "code",
   "execution_count": 55,
   "metadata": {},
   "outputs": [],
   "source": [
    "# These 6 are the ones to be used as a feature\n",
    "seller_type = np.array([seller_type_mapping[s_type] for s_type in data['seller_type']])\n",
    "fuel = np.array([fuel_mapping[f_type] for f_type in data['fuel']])\n",
    "transmission = np.array([transmission_mapping[t_type] for t_type in data['transmission']])\n",
    "owner = np.array([owner_mapping[o_type] for o_type in data['owner']])\n",
    "age = np.array([2023-year for year in data['year']])\n",
    "km_driven = np.array(data['km_driven'])\n"
   ]
  },
  {
   "cell_type": "code",
   "execution_count": 58,
   "metadata": {},
   "outputs": [],
   "source": [
    "# writing the X, the features matrix\n",
    "X = np.column_stack((seller_type, fuel, transmission, owner, age, km_driven))\n",
    "Y = np.array(data['selling_price'])"
   ]
  },
  {
   "cell_type": "code",
   "execution_count": 61,
   "metadata": {},
   "outputs": [],
   "source": [
    "# function to calculate the cost - square error cost\n",
    "def compute_cost_matrix(X, y, w, b, verbose=False):\n",
    "    m,n = X.shape\n",
    "\n",
    "    # calculate f_wb for all examples.\n",
    "    f_wb = X @ w + b  \n",
    "    # calculate cost\n",
    "    total_cost = (1/(2*m)) * np.sum((f_wb-y)**2)\n",
    "    # if verbose: print(\"f_wb:\")\n",
    "    # if verbose: print(f_wb)\n",
    "        \n",
    "    return total_cost"
   ]
  },
  {
   "cell_type": "code",
   "execution_count": 62,
   "metadata": {},
   "outputs": [],
   "source": [
    "# function to compute the gradients\n",
    "def compute_gradient_matrix(X, y, w, b): \n",
    "    \n",
    "    m,n = X.shape\n",
    "    f_wb = X @ w + b              \n",
    "    e   = f_wb - y                \n",
    "    dj_dw  = (1/m) * (X.T @ e)    \n",
    "    dj_db  = (1/m) * np.sum(e)    \n",
    "        \n",
    "    return dj_db,dj_dw"
   ]
  },
  {
   "cell_type": "code",
   "execution_count": null,
   "metadata": {},
   "outputs": [],
   "source": [
    "def gradient_descent(X, y, w_in, b_in, cost_function, gradient_function, alpha, num_iters): \n",
    "    \"\"\"\n",
    "    Performs batch gradient descent to learn theta. Updates theta by taking \n",
    "    num_iters gradient steps with learning rate alpha\n",
    "    \n",
    "    Args:\n",
    "      X : (array_like Shape (m,n)    matrix of examples \n",
    "      y : (array_like Shape (m,))    target value of each example\n",
    "      w_in : (array_like Shape (n,)) Initial values of parameters of the model\n",
    "      b_in : (scalar)                Initial value of parameter of the model\n",
    "      cost_function: function to compute cost\n",
    "      gradient_function: function to compute the gradient\n",
    "      alpha : (float) Learning rate\n",
    "      num_iters : (int) number of iterations to run gradient descent\n",
    "    Returns\n",
    "      w : (array_like Shape (n,)) Updated values of parameters of the model after\n",
    "          running gradient descent\n",
    "      b : (scalar)                Updated value of parameter of the model after\n",
    "          running gradient descent\n",
    "    \"\"\"\n",
    "    \n",
    "    # number of training examples\n",
    "    m = len(X)\n",
    "    \n",
    "    # An array to store values at each iteration primarily for graphing later\n",
    "    hist={}\n",
    "    hist[\"cost\"] = []; hist[\"params\"] = []; hist[\"grads\"]=[]; hist[\"iter\"]=[];\n",
    "    \n",
    "    w = copy.deepcopy(w_in)  #avoid modifying global w within function\n",
    "    b = b_in\n",
    "    save_interval = np.ceil(num_iters/10000) # prevent resource exhaustion for long runs\n",
    "\n",
    "    for i in range(num_iters):\n",
    "\n",
    "        # Calculate the gradient and update the parameters\n",
    "        dj_db,dj_dw = gradient_function(X, y, w, b)   \n",
    "\n",
    "        # Update Parameters using w, b, alpha and gradient\n",
    "        w = w - alpha * dj_dw               \n",
    "        b = b - alpha * dj_db               \n",
    "      \n",
    "        # Save cost J,w,b at each save interval for graphing\n",
    "        if i == 0 or i % save_interval == 0:     \n",
    "            hist[\"cost\"].append(cost_function(X, y, w, b))\n",
    "            hist[\"params\"].append([w,b])\n",
    "            hist[\"grads\"].append([dj_dw,dj_db])\n",
    "            hist[\"iter\"].append(i)\n",
    "\n",
    "        # Print cost every at intervals 10 times or as many iterations if < 10\n",
    "        if i% math.ceil(num_iters/10) == 0:\n",
    "            #print(f\"Iteration {i:4d}: Cost {cost_function(X, y, w, b):8.2f}   \")\n",
    "            cst = cost_function(X, y, w, b)\n",
    "            print(f\"Iteration {i:9d}, Cost: {cst:0.5e}\")\n",
    "    return w, b, hist #return w,b and history for graphing"
   ]
  }
 ],
 "metadata": {
  "kernelspec": {
   "display_name": "Python 3",
   "language": "python",
   "name": "python3"
  },
  "language_info": {
   "codemirror_mode": {
    "name": "ipython",
    "version": 3
   },
   "file_extension": ".py",
   "mimetype": "text/x-python",
   "name": "python",
   "nbconvert_exporter": "python",
   "pygments_lexer": "ipython3",
   "version": "3.10.0"
  },
  "orig_nbformat": 4
 },
 "nbformat": 4,
 "nbformat_minor": 2
}
