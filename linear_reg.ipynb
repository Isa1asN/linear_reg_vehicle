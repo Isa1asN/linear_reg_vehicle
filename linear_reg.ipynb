{
 "cells": [
  {
   "cell_type": "code",
   "execution_count": 73,
   "metadata": {},
   "outputs": [],
   "source": [
    "import numpy as np\n",
    "import copy\n",
    "import math"
   ]
  },
  {
   "cell_type": "code",
   "execution_count": 7,
   "metadata": {},
   "outputs": [],
   "source": [
    "# data reader from csv file\n",
    "def load_data(path, dataType, skip_header):\n",
    "    data = np.genfromtxt(path, delimiter=',', skip_header=skip_header, dtype=dataType)\n",
    "    return data "
   ]
  },
  {
   "cell_type": "code",
   "execution_count": 40,
   "metadata": {},
   "outputs": [],
   "source": [
    "# the data columns of the data file \n",
    "dataType = [\n",
    "    ('name', 'U40'),\n",
    "    ('year', int),\n",
    "    ('selling_price', int),\n",
    "    ('km_driven', int),\n",
    "    ('fuel', 'U15'),\n",
    "    ('seller_type', 'U16'),\n",
    "    ('transmission', 'U15'),\n",
    "    ('owner', 'U20')\n",
    "]"
   ]
  },
  {
   "cell_type": "code",
   "execution_count": 41,
   "metadata": {},
   "outputs": [],
   "source": [
    "# load the data \n",
    "data = load_data('car_data.csv', dataType, True)"
   ]
  },
  {
   "cell_type": "code",
   "execution_count": 42,
   "metadata": {},
   "outputs": [
    {
     "name": "stdout",
     "output_type": "stream",
     "text": [
      "4340\n",
      "4340\n",
      "4340\n",
      "4340\n",
      "4340\n",
      "4340\n",
      "4340\n",
      "4340\n"
     ]
    }
   ],
   "source": [
    "print(len(data['name'])) #the name is not that valuable tho\n",
    "print(len(data['year']))\n",
    "print(len(data['selling_price']))\n",
    "print(len(data['km_driven']))\n",
    "print(len(data['fuel']))\n",
    "print(len(data['seller_type']))\n",
    "print(len(data['transmission']))\n",
    "print(len(data['owner']))\n"
   ]
  },
  {
   "cell_type": "code",
   "execution_count": 49,
   "metadata": {},
   "outputs": [],
   "source": [
    "# the categorical features should be encoded to make use of them\n",
    "seller_type_categories = [\"Individual\", \"Dealer\", \"Trustmark Dealer\"]\n",
    "fuel_categories = [\"Petrol\", \"Diesel\", \"CNG\", \"Electric\", \"LPG\"]\n",
    "transmission_categories = [\"Manual\", \"Automatic\"]\n",
    "owner_categories = [\"First Owner\", \"Second Owner\", \"Third Owner\", \"Fourth & Above Owner\"]"
   ]
  },
  {
   "cell_type": "code",
   "execution_count": 52,
   "metadata": {},
   "outputs": [],
   "source": [
    "# I used a integers to label the different categories\n",
    "seller_type_mapping = {\n",
    "    \"Individual\" : 1,\n",
    "    \"Dealer\" : 2,\n",
    "    \"Trustmark Dealer\" : 3\n",
    "}\n",
    "\n",
    "fuel_mapping = {\n",
    "    \"Petrol\" : 1,\n",
    "    \"Diesel\" : 2,\n",
    "    \"CNG\" : 3,  # CNG means Compressed Natural Gas\n",
    "    \"Electric\" : 4, \n",
    "    \"LPG\" : 5   # LPG means Liquefied Petroleum Gas\n",
    "}\n",
    "transmission_mapping = {\n",
    "    \"Manual\" : 1,\n",
    "    \"Automatic\" : 2\n",
    "}\n",
    "owner_mapping = {\n",
    "    \"First Owner\" : 1,\n",
    "    \"Second Owner\" : 2,\n",
    "    \"Third Owner\" : 3,\n",
    "    \"Fourth & Above Owner\" : 4,\n",
    "    \"Test Drive Car\" : 5\n",
    "}"
   ]
  },
  {
   "cell_type": "code",
   "execution_count": 112,
   "metadata": {},
   "outputs": [],
   "source": [
    "# These 6 are the ones to be used as a feature\n",
    "seller_type = np.array([seller_type_mapping[s_type] for s_type in data['seller_type']])\n",
    "fuel = np.array([fuel_mapping[f_type] for f_type in data['fuel']])\n",
    "transmission = np.array([transmission_mapping[t_type] for t_type in data['transmission']])\n",
    "owner = np.array([owner_mapping[o_type] for o_type in data['owner']])\n",
    "age = np.array([(2023-year) for year in data['year']])\n",
    "km_driven = np.array(data['km_driven'])\n"
   ]
  },
  {
   "cell_type": "code",
   "execution_count": 127,
   "metadata": {},
   "outputs": [],
   "source": [
    "# writing the X, the features matrix\n",
    "x_train = np.column_stack((seller_type, fuel, transmission, owner, age, km_driven))\n",
    "Y = np.array(data['selling_price'])"
   ]
  },
  {
   "cell_type": "code",
   "execution_count": 153,
   "metadata": {},
   "outputs": [],
   "source": [
    "# feature scaling using zscore normalization\n",
    "def zscore_normalize_features(X):\n",
    "    # find the mean of each column/feature\n",
    "    mu     = np.mean(X, axis=0)                 # mu will have shape (n,)\n",
    "    # find the standard deviation of each column/feature\n",
    "    sigma  = np.std(X, axis=0)                  # sigma will have shape (n,)\n",
    "    # element-wise, subtract mu for that column from each example, divide by std for that column\n",
    "    X_norm = (X - mu) / sigma      \n",
    "\n",
    "    return (X_norm, mu, sigma)"
   ]
  },
  {
   "cell_type": "code",
   "execution_count": 155,
   "metadata": {},
   "outputs": [
    {
     "name": "stdout",
     "output_type": "stream",
     "text": [
      "X_mu = [1.27603687e+00 1.53640553e+00 1.10322581e+00 1.46658986e+00\n",
      " 9.90921659e+00 6.62157774e+04], \n",
      "X_sigma = [4.96835107e-01 5.76267972e-01 3.04253577e-01 7.40244624e-01\n",
      " 4.21485827e+00 4.66387281e+04]\n"
     ]
    }
   ],
   "source": [
    "# normalize the original features\n",
    "X_norm, X_mu, X_sigma = zscore_normalize_features(x_train)\n",
    "print(f\"X_mu = {X_mu}, \\nX_sigma = {X_sigma}\")"
   ]
  },
  {
   "cell_type": "code",
   "execution_count": 135,
   "metadata": {},
   "outputs": [],
   "source": [
    "def compute_cost(X, y, w, b): \n",
    "    \"\"\"\n",
    "    compute cost\n",
    "    Args:\n",
    "      X (ndarray (m,n)): Data, m examples with n features\n",
    "      y (ndarray (m,)) : target values\n",
    "      w (ndarray (n,)) : model parameters  \n",
    "      b (scalar)       : model parameter\n",
    "      \n",
    "    Returns:\n",
    "      cost (scalar): cost\n",
    "    \"\"\"\n",
    "    m,n = X.shape\n",
    "    # calculate f_wb for all examples.\n",
    "    f_wb = X @ w + b  \n",
    "    # calculate cost\n",
    "    total_cost = (1/(2*m)) * np.sum((f_wb-y)**2)\n",
    "\n",
    "    # if verbose: print(\"f_wb:\")\n",
    "    # if verbose: print(f_wb)\n",
    "        \n",
    "    return total_cost"
   ]
  },
  {
   "cell_type": "code",
   "execution_count": 158,
   "metadata": {},
   "outputs": [
    {
     "name": "stdout",
     "output_type": "stream",
     "text": [
      "294393448223.70355\n"
     ]
    }
   ],
   "source": [
    "print(compute_cost(X_norm, Y, [1, 2, 3, 4, 5, 6], 1))\n"
   ]
  },
  {
   "cell_type": "code",
   "execution_count": 184,
   "metadata": {},
   "outputs": [],
   "source": [
    "# function to compute the gradients\n",
    "def compute_gradient_matrix(X, y, w, b): \n",
    "    \n",
    "    m,n = X.shape\n",
    "    f_wb = X @ w + b              \n",
    "    e   = f_wb - y                \n",
    "    dj_dw  = (1/m) * (X.T @ e)    \n",
    "    dj_db  = (1/m) * np.sum(e)    \n",
    "    # print(f\"the gradient {(dj_db,dj_dw)}\")\n",
    "    return dj_db,dj_dw"
   ]
  },
  {
   "cell_type": "code",
   "execution_count": 138,
   "metadata": {},
   "outputs": [],
   "source": [
    "#Compute and display gradient \n",
    "# tmp_dj_db, tmp_dj_dw = compute_gradient_matrix(X_norm, Y, [1,2,3,4,5,6], 1)\n",
    "# print(f'dj_db at initial w,b: {tmp_dj_db}')\n",
    "# print(f'dj_dw at initial w,b: \\n {tmp_dj_dw}')"
   ]
  },
  {
   "cell_type": "code",
   "execution_count": 144,
   "metadata": {},
   "outputs": [],
   "source": [
    "def gradient_descent(X, y, w_in, b_in, cost_function, gradient_function, alpha, num_iters): \n",
    "    \n",
    "    # number of training examples\n",
    "    m = len(X)\n",
    "        \n",
    "    w = copy.deepcopy(w_in)  #avoid modifying global w within function\n",
    "    b = b_in\n",
    "\n",
    "    for i in range(num_iters):\n",
    "\n",
    "        # Calculate the gradient and update the parameters\n",
    "        dj_db,dj_dw = gradient_function(X, y, w, b)   \n",
    "\n",
    "        # Update Parameters using w, b, alpha and gradient\n",
    "        w = w - alpha * dj_dw               \n",
    "        b = b - alpha * dj_db               \n",
    "      \n",
    "    return w, b"
   ]
  },
  {
   "cell_type": "code",
   "execution_count": 189,
   "metadata": {},
   "outputs": [
    {
     "name": "stdout",
     "output_type": "stream",
     "text": [
      "b,w found by gradient descent: 504127.31,[  47742.63401378  109531.30277309  266588.84953759   -7784.96183229\n",
      " -169386.44666937  -26234.31006287] \n"
     ]
    }
   ],
   "source": [
    "# initialize parameters\n",
    "initial_w = np.zeros(6)\n",
    "initial_b = 0.\n",
    "# some gradient descent settings\n",
    "iterations = 30000\n",
    "alpha = 1\n",
    "# run gradient descent \n",
    "w_final, b_final = gradient_descent(X_norm, Y, initial_w, initial_b,\n",
    "                                                    compute_cost_matrix, compute_gradient_matrix, \n",
    "                                                    alpha, iterations)\n",
    "print(f\"b,w found by gradient descent: {b_final:0.2f},{w_final} \")"
   ]
  },
  {
   "cell_type": "code",
   "execution_count": 190,
   "metadata": {},
   "outputs": [],
   "source": [
    "# predictor\n",
    "def predict(car_data)->float:\n",
    "    car_norm = (car_data - X_mu) \n",
    "    # print(X_mu)\n",
    "    # print(car_norm)\n",
    "    car_predict = np.dot(w_final, car_norm) + b_final\n",
    "    print(car_predict)"
   ]
  },
  {
   "cell_type": "code",
   "execution_count": 191,
   "metadata": {},
   "outputs": [
    {
     "name": "stdout",
     "output_type": "stream",
     "text": [
      "-1223007437.7650487\n"
     ]
    }
   ],
   "source": [
    "predict([1, 1, 1, 3, 2000, 100000])"
   ]
  },
  {
   "cell_type": "code",
   "execution_count": null,
   "metadata": {},
   "outputs": [],
   "source": []
  }
 ],
 "metadata": {
  "kernelspec": {
   "display_name": "Python 3",
   "language": "python",
   "name": "python3"
  },
  "language_info": {
   "codemirror_mode": {
    "name": "ipython",
    "version": 3
   },
   "file_extension": ".py",
   "mimetype": "text/x-python",
   "name": "python",
   "nbconvert_exporter": "python",
   "pygments_lexer": "ipython3",
   "version": "3.10.0"
  },
  "orig_nbformat": 4
 },
 "nbformat": 4,
 "nbformat_minor": 2
}
