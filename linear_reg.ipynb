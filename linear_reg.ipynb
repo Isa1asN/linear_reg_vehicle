{
 "cells": [
  {
   "cell_type": "code",
   "execution_count": 1,
   "metadata": {},
   "outputs": [],
   "source": [
    "import numpy as np"
   ]
  },
  {
   "cell_type": "code",
   "execution_count": 7,
   "metadata": {},
   "outputs": [],
   "source": [
    "# data reader from csv file\n",
    "def load_data(path, dataType, skip_header):\n",
    "    data = np.genfromtxt(path, delimiter=',', skip_header=skip_header, dtype=dataType)\n",
    "    return data "
   ]
  },
  {
   "cell_type": "code",
   "execution_count": 13,
   "metadata": {},
   "outputs": [],
   "source": [
    "# the data columns of the data file \n",
    "dataType = [\n",
    "    ('name', 'U40'),\n",
    "    ('year', int),\n",
    "    ('selling_price', int),\n",
    "    ('km_driven', int),\n",
    "    ('fuel', 'U15'),\n",
    "    ('seller_type', 'U15'),\n",
    "    ('transmission', 'U15'),\n",
    "    ('owner', 'U20')\n",
    "]"
   ]
  },
  {
   "cell_type": "code",
   "execution_count": 14,
   "metadata": {},
   "outputs": [],
   "source": [
    "data = load_data('car_data.csv', dataType, True)"
   ]
  },
  {
   "cell_type": "code",
   "execution_count": 20,
   "metadata": {},
   "outputs": [
    {
     "name": "stdout",
     "output_type": "stream",
     "text": [
      "4340\n",
      "4340\n",
      "4340\n",
      "4340\n",
      "4340\n",
      "4340\n",
      "4340\n",
      "4340\n"
     ]
    }
   ],
   "source": [
    "print(len(data['name'])) #the name is not that valuable tho\n",
    "print(len(data['year']))\n",
    "print(len(data['selling_price']))\n",
    "print(len(data['km_driven']))\n",
    "print(len(data['fuel']))\n",
    "print(len(data['seller_type']))\n",
    "print(len(data['transmission']))\n",
    "print(len(data['owner']))\n"
   ]
  },
  {
   "cell_type": "code",
   "execution_count": 23,
   "metadata": {},
   "outputs": [],
   "source": [
    "# the categorical features should be encoded to make use of them\n",
    "seller_type_categories = [\"Individual\", \"Dealer\", \"Trustmark Dealer\"]\n",
    "fuel_categories = [\"Petrol\", \"Diesel\", \"CNG\", \"Electric\"]\n",
    "transmission_categories = [\"Manual\", \"Automatic\"]\n",
    "owner_categories = [\"First Owner\", \"Second Owner\", \"Third Owner\", \"Fourth & Above Owner\"]"
   ]
  },
  {
   "cell_type": "code",
   "execution_count": 24,
   "metadata": {},
   "outputs": [],
   "source": [
    "# I used a integers to label the different categories\n",
    "seller_type_mapping = {\n",
    "    \"Individual\" : 1,\n",
    "    \"Dealer\" : 2,\n",
    "    \"Trustmark Dealer\" : 3\n",
    "}\n",
    "\n",
    "fuel_mapping = {\n",
    "    \"Petrol\" : 1,\n",
    "    \"Diesel\" : 2,\n",
    "    \"CNG\" : 3,\n",
    "    \"Electric\" : 4\n",
    "}\n",
    "transmission_mapping = {\n",
    "    \"Manual\" : 1,\n",
    "    \"Automatic\" : 2\n",
    "}\n",
    "owner_mapping = {\n",
    "    \"First Owner\" : 1,\n",
    "    \"Second Owner\" : 2,\n",
    "    \"Third Owner\" : 3,\n",
    "    \"Fourth & Above Owner\" : 4\n",
    "}"
   ]
  },
  {
   "cell_type": "code",
   "execution_count": 38,
   "metadata": {},
   "outputs": [
    {
     "ename": "KeyError",
     "evalue": "'Trustmark Deale'",
     "output_type": "error",
     "traceback": [
      "\u001b[1;31m---------------------------------------------------------------------------\u001b[0m",
      "\u001b[1;31mKeyError\u001b[0m                                  Traceback (most recent call last)",
      "Cell \u001b[1;32mIn[38], line 2\u001b[0m\n\u001b[0;32m      1\u001b[0m \u001b[39m# print(data['seller_type'])   \u001b[39;00m\n\u001b[1;32m----> 2\u001b[0m seller_type \u001b[39m=\u001b[39m np\u001b[39m.\u001b[39marray([seller_type_mapping[s_type] \u001b[39mfor\u001b[39;00m s_type \u001b[39min\u001b[39;00m data[\u001b[39m'\u001b[39m\u001b[39mseller_type\u001b[39m\u001b[39m'\u001b[39m]])\n",
      "Cell \u001b[1;32mIn[38], line 2\u001b[0m, in \u001b[0;36m<listcomp>\u001b[1;34m(.0)\u001b[0m\n\u001b[0;32m      1\u001b[0m \u001b[39m# print(data['seller_type'])   \u001b[39;00m\n\u001b[1;32m----> 2\u001b[0m seller_type \u001b[39m=\u001b[39m np\u001b[39m.\u001b[39marray([seller_type_mapping[s_type] \u001b[39mfor\u001b[39;00m s_type \u001b[39min\u001b[39;00m data[\u001b[39m'\u001b[39m\u001b[39mseller_type\u001b[39m\u001b[39m'\u001b[39m]])\n",
      "\u001b[1;31mKeyError\u001b[0m: 'Trustmark Deale'"
     ]
    }
   ],
   "source": [
    "# print(data['seller_type'])   \n",
    "seller_type = np.array([seller_type_mapping[s_type] for s_type in data['seller_type']])"
   ]
  },
  {
   "cell_type": "code",
   "execution_count": null,
   "metadata": {},
   "outputs": [],
   "source": []
  }
 ],
 "metadata": {
  "kernelspec": {
   "display_name": "Python 3",
   "language": "python",
   "name": "python3"
  },
  "language_info": {
   "codemirror_mode": {
    "name": "ipython",
    "version": 3
   },
   "file_extension": ".py",
   "mimetype": "text/x-python",
   "name": "python",
   "nbconvert_exporter": "python",
   "pygments_lexer": "ipython3",
   "version": "3.10.0"
  },
  "orig_nbformat": 4
 },
 "nbformat": 4,
 "nbformat_minor": 2
}
