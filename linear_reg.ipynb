{
 "cells": [
  {
   "cell_type": "code",
   "execution_count": 73,
   "metadata": {},
   "outputs": [],
   "source": [
    "import numpy as np\n",
    "import copy\n",
    "import math"
   ]
  },
  {
   "cell_type": "code",
   "execution_count": 7,
   "metadata": {},
   "outputs": [],
   "source": [
    "# data reader from csv file\n",
    "def load_data(path, dataType, skip_header):\n",
    "    data = np.genfromtxt(path, delimiter=',', skip_header=skip_header, dtype=dataType)\n",
    "    return data "
   ]
  },
  {
   "cell_type": "code",
   "execution_count": 40,
   "metadata": {},
   "outputs": [],
   "source": [
    "# the data columns of the data file \n",
    "dataType = [\n",
    "    ('name', 'U40'),\n",
    "    ('year', int),\n",
    "    ('selling_price', int),\n",
    "    ('km_driven', int),\n",
    "    ('fuel', 'U15'),\n",
    "    ('seller_type', 'U16'),\n",
    "    ('transmission', 'U15'),\n",
    "    ('owner', 'U20')\n",
    "]"
   ]
  },
  {
   "cell_type": "code",
   "execution_count": 41,
   "metadata": {},
   "outputs": [],
   "source": [
    "# load the data \n",
    "data = load_data('car_data.csv', dataType, True)"
   ]
  },
  {
   "cell_type": "code",
   "execution_count": 42,
   "metadata": {},
   "outputs": [
    {
     "name": "stdout",
     "output_type": "stream",
     "text": [
      "4340\n",
      "4340\n",
      "4340\n",
      "4340\n",
      "4340\n",
      "4340\n",
      "4340\n",
      "4340\n"
     ]
    }
   ],
   "source": [
    "print(len(data['name'])) #the name is not that valuable tho\n",
    "print(len(data['year']))\n",
    "print(len(data['selling_price']))\n",
    "print(len(data['km_driven']))\n",
    "print(len(data['fuel']))\n",
    "print(len(data['seller_type']))\n",
    "print(len(data['transmission']))\n",
    "print(len(data['owner']))\n"
   ]
  },
  {
   "cell_type": "code",
   "execution_count": 49,
   "metadata": {},
   "outputs": [],
   "source": [
    "# the categorical features should be encoded to make use of them\n",
    "seller_type_categories = [\"Individual\", \"Dealer\", \"Trustmark Dealer\"]\n",
    "fuel_categories = [\"Petrol\", \"Diesel\", \"CNG\", \"Electric\", \"LPG\"]\n",
    "transmission_categories = [\"Manual\", \"Automatic\"]\n",
    "owner_categories = [\"First Owner\", \"Second Owner\", \"Third Owner\", \"Fourth & Above Owner\"]"
   ]
  },
  {
   "cell_type": "code",
   "execution_count": 52,
   "metadata": {},
   "outputs": [],
   "source": [
    "# I used a integers to label the different categories\n",
    "seller_type_mapping = {\n",
    "    \"Individual\" : 1,\n",
    "    \"Dealer\" : 2,\n",
    "    \"Trustmark Dealer\" : 3\n",
    "}\n",
    "\n",
    "fuel_mapping = {\n",
    "    \"Petrol\" : 1,\n",
    "    \"Diesel\" : 2,\n",
    "    \"CNG\" : 3,  # CNG means Compressed Natural Gas\n",
    "    \"Electric\" : 4, \n",
    "    \"LPG\" : 5   # LPG means Liquefied Petroleum Gas\n",
    "}\n",
    "transmission_mapping = {\n",
    "    \"Manual\" : 1,\n",
    "    \"Automatic\" : 2\n",
    "}\n",
    "owner_mapping = {\n",
    "    \"First Owner\" : 1,\n",
    "    \"Second Owner\" : 2,\n",
    "    \"Third Owner\" : 3,\n",
    "    \"Fourth & Above Owner\" : 4,\n",
    "    \"Test Drive Car\" : 5\n",
    "}"
   ]
  },
  {
   "cell_type": "code",
   "execution_count": 112,
   "metadata": {},
   "outputs": [],
   "source": [
    "# These 6 are the ones to be used as a feature\n",
    "seller_type = np.array([seller_type_mapping[s_type] for s_type in data['seller_type']])\n",
    "fuel = np.array([fuel_mapping[f_type] for f_type in data['fuel']])\n",
    "transmission = np.array([transmission_mapping[t_type] for t_type in data['transmission']])\n",
    "owner = np.array([owner_mapping[o_type] for o_type in data['owner']])\n",
    "age = np.array([(2023-year) for year in data['year']])\n",
    "km_driven = np.array(data['km_driven'])\n"
   ]
  },
  {
   "cell_type": "code",
   "execution_count": 127,
   "metadata": {},
   "outputs": [],
   "source": [
    "# writing the X, the features matrix\n",
    "x_train = np.column_stack((seller_type, fuel, transmission, owner, age, km_driven))\n",
    "Y = np.array(data['selling_price'])"
   ]
  },
  {
   "cell_type": "code",
   "execution_count": 153,
   "metadata": {},
   "outputs": [],
   "source": [
    "# feature scaling using zscore normalization\n",
    "def zscore_normalize_features(X):\n",
    "    # find the mean of each column/feature\n",
    "    mu     = np.mean(X, axis=0)                 # mu will have shape (n,)\n",
    "    # find the standard deviation of each column/feature\n",
    "    sigma  = np.std(X, axis=0)                  # sigma will have shape (n,)\n",
    "    # element-wise, subtract mu for that column from each example, divide by std for that column\n",
    "    X_norm = (X - mu) / sigma      \n",
    "\n",
    "    return (X_norm, mu, sigma)"
   ]
  },
  {
   "cell_type": "code",
   "execution_count": 155,
   "metadata": {},
   "outputs": [
    {
     "name": "stdout",
     "output_type": "stream",
     "text": [
      "X_mu = [1.27603687e+00 1.53640553e+00 1.10322581e+00 1.46658986e+00\n",
      " 9.90921659e+00 6.62157774e+04], \n",
      "X_sigma = [4.96835107e-01 5.76267972e-01 3.04253577e-01 7.40244624e-01\n",
      " 4.21485827e+00 4.66387281e+04]\n"
     ]
    }
   ],
   "source": [
    "# normalize the original features\n",
    "X_norm, X_mu, X_sigma = zscore_normalize_features(x_train)\n",
    "print(f\"X_mu = {X_mu}, \\nX_sigma = {X_sigma}\")"
   ]
  },
  {
   "cell_type": "code",
   "execution_count": 135,
   "metadata": {},
   "outputs": [],
   "source": [
    "def compute_cost(X, y, w, b): \n",
    "    \"\"\"\n",
    "    compute cost\n",
    "    Args:\n",
    "      X (ndarray (m,n)): Data, m examples with n features\n",
    "      y (ndarray (m,)) : target values\n",
    "      w (ndarray (n,)) : model parameters  \n",
    "      b (scalar)       : model parameter\n",
    "      \n",
    "    Returns:\n",
    "      cost (scalar): cost\n",
    "    \"\"\"\n",
    "    m,n = X.shape\n",
    "    # calculate f_wb for all examples.\n",
    "    f_wb = X @ w + b  \n",
    "    # calculate cost\n",
    "    total_cost = (1/(2*m)) * np.sum((f_wb-y)**2)\n",
    "\n",
    "    # if verbose: print(\"f_wb:\")\n",
    "    # if verbose: print(f_wb)\n",
    "        \n",
    "    return total_cost"
   ]
  },
  {
   "cell_type": "code",
   "execution_count": 136,
   "metadata": {},
   "outputs": [
    {
     "name": "stdout",
     "output_type": "stream",
     "text": [
      "116575.02131336405\n"
     ]
    }
   ],
   "source": [
    "print(compute_cost(x_train, Y, [1, 2, 3, 4, 5, 6], 1))\n"
   ]
  },
  {
   "cell_type": "code",
   "execution_count": 77,
   "metadata": {},
   "outputs": [],
   "source": [
    "# function to compute the gradients\n",
    "def compute_gradient_matrix(X, y, w, b): \n",
    "    \n",
    "    m,n = X.shape\n",
    "    f_wb = X @ w + b              \n",
    "    e   = f_wb - y                \n",
    "    dj_dw  = (1/m) * (X.T @ e)    \n",
    "    dj_db  = (1/m) * np.sum(e)    \n",
    "    print(f\"the gradient {(dj_db,dj_dw)}\")\n",
    "    return dj_db,dj_dw"
   ]
  },
  {
   "cell_type": "code",
   "execution_count": 138,
   "metadata": {},
   "outputs": [],
   "source": [
    "#Compute and display gradient \n",
    "# tmp_dj_db, tmp_dj_dw = compute_gradient_matrix(x_train, Y, [1,2,3,4,5,6], 1)\n",
    "# print(f'dj_db at initial w,b: {tmp_dj_db}')\n",
    "# print(f'dj_dw at initial w,b: \\n {tmp_dj_dw}')"
   ]
  },
  {
   "cell_type": "code",
   "execution_count": 144,
   "metadata": {},
   "outputs": [],
   "source": [
    "def gradient_descent(X, y, w_in, b_in, cost_function, gradient_function, alpha, num_iters): \n",
    "    \n",
    "    # number of training examples\n",
    "    m = len(X)\n",
    "        \n",
    "    w = copy.deepcopy(w_in)  #avoid modifying global w within function\n",
    "    b = b_in\n",
    "\n",
    "    for i in range(num_iters):\n",
    "\n",
    "        # Calculate the gradient and update the parameters\n",
    "        dj_db,dj_dw = gradient_function(X, y, w, b)   \n",
    "\n",
    "        # Update Parameters using w, b, alpha and gradient\n",
    "        w = w - alpha * dj_dw               \n",
    "        b = b - alpha * dj_db               \n",
    "      \n",
    "    return w, b"
   ]
  },
  {
   "cell_type": "code",
   "execution_count": 152,
   "metadata": {},
   "outputs": [
    {
     "name": "stdout",
     "output_type": "stream",
     "text": [
      "the gradient (-504127.3117511521, array([-7.12454951e+05, -8.44934665e+05, -6.49485144e+05, -6.54204205e+05,\n",
      "       -3.98627461e+06, -2.81932984e+10]))\n",
      "the gradient (1866840709457.5981, array([2.25990672e+12, 3.07029586e+12, 2.01144870e+12, 3.00498468e+12,\n",
      "       2.08248901e+13, 1.84939558e+17]))\n",
      "the gradient (-1.2245914988944847e+19, array([-1.48243108e+19, -2.01402198e+19, -1.31945007e+19, -1.97117969e+19,\n",
      "       -1.36605021e+20, -1.21314788e+24]))\n",
      "the gradient (8.032951913418214e+25, array([9.72430200e+25, 1.32113784e+26, 8.65519562e+25, 1.29303459e+26,\n",
      "       8.96087851e+26, 7.95788521e+30]))\n",
      "the gradient (-5.2693748488001314e+32, array([-6.37884964e+32, -8.66626690e+32, -5.67754800e+32, -8.48191801e+32,\n",
      "       -5.87806678e+33, -5.22013335e+37]))\n",
      "the gradient (3.4565514142798053e+39, array([4.18433351e+39, 5.68481043e+39, 3.72430073e+39, 5.56388311e+39,\n",
      "       3.85583502e+40, 3.42425047e+44]))\n",
      "the gradient (-2.2673937653686365e+46, array([-2.74479693e+46, -3.72906466e+46, -2.44302926e+46, -3.64973997e+46,\n",
      "       -2.52931180e+47, -2.24620532e+51]))\n",
      "the gradient (1.4873421138750058e+53, array([1.80050423e+53, 2.44615426e+53, 1.60255372e+53, 2.39411965e+53,\n",
      "       1.65915247e+54, 1.47344313e+58]))\n",
      "the gradient (-9.756516920414613e+59, array([-1.18107662e+60, -1.60460362e+60, -1.05122704e+60, -1.57047048e+60,\n",
      "       -1.08835412e+61, -9.66534376e+64]))\n",
      "the gradient (6.399981653873632e+66, array([7.74750740e+66, 1.05257171e+67, 6.89573319e+66, 1.03018140e+67,\n",
      "       7.13927566e+67, 6.34017481e+71]))\n",
      "the gradient (-4.1981954732446096e+73, array([-5.08213183e+73, -6.90455386e+73, -4.52339357e+73, -6.75768015e+73,\n",
      "       -4.68315010e+74, -4.15896398e+78]))\n",
      "the gradient (2.7538899616851207e+80, array([3.33372563e+80, 4.52917967e+80, 2.96721013e+80, 4.43283493e+80,\n",
      "       3.07200561e+81, 2.72815528e+85]))\n",
      "the gradient (-1.8064689863544612e+87, array([-2.18682374e+87, -2.97100564e+87, -1.94640060e+87, -2.90780639e+87,\n",
      "       -2.01514329e+88, -1.78958781e+92]))\n",
      "the gradient (1.1849893220365496e+94, array([1.43449060e+94, 1.94889034e+94, 1.27678025e+94, 1.90743353e+94,\n",
      "       1.32187339e+95, 1.17391578e+99]))\n",
      "the gradient (-7.7731735443429e+100, array([-9.40982691e+100, -1.27841345e+101, -8.37529445e+100,\n",
      "       -1.25121903e+101, -8.67109183e+101, -7.70053443e+105]))\n",
      "the gradient (5.098968052018337e+107, array([6.17256343e+107, 8.38600770e+107, 5.49394126e+107, 8.20762049e+107,\n",
      "       5.68797544e+108, 5.05131898e+112]))\n",
      "the gradient (-3.3447696809014877e+114, array([-4.04901596e+114, -5.50096883e+114, -3.60386022e+114,\n",
      "       -5.38395218e+114, -3.73114081e+115, -3.31351332e+119]))\n",
      "the gradient (2.1940683103220185e+121, array([2.65603269e+121, 3.60847010e+121, 2.36402391e+121, 3.53171070e+121,\n",
      "       2.44751615e+122, 2.17356508e+126]))\n",
      "the gradient (-1.4392428207678152e+128, array([-1.74227756e+128, -2.36704785e+128, -1.55072858e+128,\n",
      "       -2.31669599e+128, -1.60549698e+129, -1.42579332e+133]))\n",
      "the gradient (9.441000024414372e+134, array([1.14288168e+135, 1.55271220e+135, 1.01723131e+135, 1.51968289e+135,\n",
      "       1.05315773e+136, 9.35277532e+139]))\n",
      "the gradient (-6.193012059871953e+141, array([-7.49696005e+141, -1.01853250e+142, -6.67273145e+141,\n",
      "       -9.96866271e+141, -6.90839796e+142, -6.13513931e+146]))\n",
      "the gradient (4.062429644586147e+148, array([4.91778031e+148, 6.68126686e+148, 4.37711113e+148, 6.53914291e+148,\n",
      "       4.53170128e+149, 4.02446686e+153]))\n",
      "the gradient (-2.664831661502294e+155, array([-3.22591597e+155, -4.38271011e+155, -2.87125325e+155,\n",
      "       -4.28948107e+155, -2.97265974e+156, -2.63992922e+160]))\n",
      "the gradient (1.7480494200333443e+162, array([2.11610385e+162, 2.87492601e+162, 1.88345578e+162, 2.81377057e+162,\n",
      "       1.94997538e+163, 1.73171417e+167]))\n",
      "the gradient (-1.1466678436101585e+169, array([-1.38810048e+169, -1.88586500e+169, -1.23549034e+169,\n",
      "       -1.84574886e+169, -1.27912520e+170, -1.13595241e+174]))\n",
      "the gradient (7.5217961717838e+175, array([9.10552165e+175, 1.23707072e+176, 8.10444503e+175, 1.21075574e+176,\n",
      "       8.39067660e+176, 7.45150614e+180]))\n",
      "the gradient (-4.9340720562751345e+182, array([-5.97294834e+182, -8.11481183e+182, -5.31627219e+182,\n",
      "       -7.94219350e+182, -5.50403148e+183, -4.88796391e+187]))\n",
      "the gradient (3.236602867256595e+189, array([3.91807446e+189, 5.32307249e+189, 3.48731466e+189, 5.20984006e+189,\n",
      "       3.61047911e+190, 3.20635731e+194]))\n",
      "the gradient (-2.1231141338949e+196, array([-2.57013900e+196, -3.49177545e+196, -2.28757353e+196,\n",
      "       -3.41749838e+196, -2.36836570e+197, -2.10327396e+201]))\n",
      "the gradient (1.3926990151142736e+203, array([1.68593388e+203, 2.29049967e+203, 1.50057943e+203, 2.24177615e+203,\n",
      "       1.55357667e+204, 1.37968446e+208]))\n",
      "b,w found by gradient descent: -139269880280289254099120245616711472799848169118000078247197119184964831955599219626615337793230818825198234782918802194747368146508508668563214428639632611425217077874825253432202278235831196782166016.00,[-1.68593363e+200 -2.29049933e+200 -1.50057920e+200 -2.24177581e+200\n",
      " -1.55357643e+201 -1.37968425e+205] \n"
     ]
    }
   ],
   "source": [
    "# initialize parameters\n",
    "initial_w = np.zeros(6)\n",
    "initial_b = 0.\n",
    "# some gradient descent settings\n",
    "iterations = 30\n",
    "alpha = 0.001\n",
    "# run gradient descent \n",
    "w_final, b_final = gradient_descent(x_train, Y, initial_w, initial_b,\n",
    "                                                    compute_cost_matrix, compute_gradient_matrix, \n",
    "                                                    alpha, iterations)\n",
    "print(f\"b,w found by gradient descent: {b_final:0.2f},{w_final} \")"
   ]
  },
  {
   "cell_type": "code",
   "execution_count": 66,
   "metadata": {},
   "outputs": [
    {
     "name": "stdout",
     "output_type": "stream",
     "text": [
      "[0. 0. 0. 0. 0.]\n"
     ]
    }
   ],
   "source": []
  },
  {
   "cell_type": "code",
   "execution_count": null,
   "metadata": {},
   "outputs": [],
   "source": []
  }
 ],
 "metadata": {
  "kernelspec": {
   "display_name": "Python 3",
   "language": "python",
   "name": "python3"
  },
  "language_info": {
   "codemirror_mode": {
    "name": "ipython",
    "version": 3
   },
   "file_extension": ".py",
   "mimetype": "text/x-python",
   "name": "python",
   "nbconvert_exporter": "python",
   "pygments_lexer": "ipython3",
   "version": "3.10.0"
  },
  "orig_nbformat": 4
 },
 "nbformat": 4,
 "nbformat_minor": 2
}
